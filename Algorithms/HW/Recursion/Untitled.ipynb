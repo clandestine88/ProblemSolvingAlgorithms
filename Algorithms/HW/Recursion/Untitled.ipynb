{
 "cells": [
  {
   "cell_type": "code",
   "execution_count": null,
   "metadata": {},
   "outputs": [],
   "source": [
    "def ropeCutting(subLength, prices, soFar, length):\n",
    "    if rest == '':\n",
    "        output.append()\n",
    "    \n",
    "    \n",
    "subLength = [1,2,3,4,5]\n",
    "prices = [1,7,3,4,10]\n",
    "length = 5\n",
    "ropeCutting(subLength, prices, soFar, length)"
   ]
  },
  {
   "cell_type": "code",
   "execution_count": 45,
   "metadata": {},
   "outputs": [
    {
     "name": "stdout",
     "output_type": "stream",
     "text": [
      "soFar : [1, 4]\n",
      "soFar : [2, 3]\n",
      "soFar : [5]\n",
      "10\n"
     ]
    }
   ],
   "source": [
    "\n",
    "def subSet(soFar, rest, prices, output):\n",
    "    if len(rest) == 0:\n",
    "        sum = 0\n",
    "        amount = 0\n",
    "        for i in range(len(soFar)):\n",
    "            sum += soFar[i]\n",
    "            amount = amount + prices[soFar[i]-1]\n",
    "        if sum == 5:\n",
    "            print(\"soFar :\" , soFar)\n",
    "            if amount > output[0]:\n",
    "                output[0] = amount\n",
    "        return\n",
    "    subSet(soFar + [rest[0]] , rest[1:], prices, output)\n",
    "    subSet(soFar, rest[1:], prices, output)\n",
    "    \n",
    "output = [0]\n",
    "soFar = []\n",
    "rest = [1,2,3,4,5]\n",
    "prices = [1,7,3,4,10]\n",
    "subSet(soFar, rest, prices, output)\n",
    "print(output[0])\n",
    "    "
   ]
  },
  {
   "cell_type": "code",
   "execution_count": 37,
   "metadata": {},
   "outputs": [],
   "source": [
    "soFar = [2]\n",
    "rest = [1,2,3]"
   ]
  },
  {
   "cell_type": "code",
   "execution_count": 38,
   "metadata": {},
   "outputs": [
    {
     "data": {
      "text/plain": [
       "[2, 1]"
      ]
     },
     "execution_count": 38,
     "metadata": {},
     "output_type": "execute_result"
    }
   ],
   "source": [
    "soFar + [rest[0]]"
   ]
  },
  {
   "cell_type": "code",
   "execution_count": 12,
   "metadata": {},
   "outputs": [
    {
     "data": {
      "text/plain": [
       "'3'"
      ]
     },
     "execution_count": 12,
     "metadata": {},
     "output_type": "execute_result"
    }
   ],
   "source": [
    "rest[2]"
   ]
  },
  {
   "cell_type": "code",
   "execution_count": 20,
   "metadata": {},
   "outputs": [],
   "source": [
    "rest = 'a'"
   ]
  },
  {
   "cell_type": "code",
   "execution_count": 21,
   "metadata": {},
   "outputs": [
    {
     "data": {
      "text/plain": [
       "'a'"
      ]
     },
     "execution_count": 21,
     "metadata": {},
     "output_type": "execute_result"
    }
   ],
   "source": [
    "rest[0]"
   ]
  },
  {
   "cell_type": "code",
   "execution_count": 22,
   "metadata": {},
   "outputs": [
    {
     "data": {
      "text/plain": [
       "''"
      ]
     },
     "execution_count": 22,
     "metadata": {},
     "output_type": "execute_result"
    }
   ],
   "source": [
    "rest[1:]"
   ]
  },
  {
   "cell_type": "code",
   "execution_count": null,
   "metadata": {},
   "outputs": [],
   "source": []
  }
 ],
 "metadata": {
  "kernelspec": {
   "display_name": "Python 3",
   "language": "python",
   "name": "python3"
  },
  "language_info": {
   "codemirror_mode": {
    "name": "ipython",
    "version": 3
   },
   "file_extension": ".py",
   "mimetype": "text/x-python",
   "name": "python",
   "nbconvert_exporter": "python",
   "pygments_lexer": "ipython3",
   "version": "3.6.4"
  }
 },
 "nbformat": 4,
 "nbformat_minor": 2
}
