{
 "cells": [
  {
   "cell_type": "markdown",
   "metadata": {},
   "source": [
    "# Tries"
   ]
  },
  {
   "cell_type": "code",
   "execution_count": 11,
   "metadata": {},
   "outputs": [
    {
     "name": "stdout",
     "output_type": "stream",
     "text": [
      "{'A': <__main__.TrieNode object at 0x10ba442e8>}\n",
      "finding word :  False\n",
      "child :  C\n",
      "child :  D\n",
      "Prefixes :  ['AB', 'ABC', 'ABD']\n"
     ]
    }
   ],
   "source": [
    "class TrieNode(object):\n",
    "    def __init__(self):\n",
    "        self.children = {}\n",
    "        self.end_of_word = False\n",
    "        \n",
    "class Trie(object):\n",
    "    def __init__(self):\n",
    "        self.root = TrieNode()\n",
    "        \n",
    "    def add(self, word):\n",
    "        current_node = self.root\n",
    "        for c in word:\n",
    "            if c not in current_node.children :\n",
    "                current_node.children[c] = TrieNode()\n",
    "            current_node = current_node.children[c]\n",
    "        current_node.end_of_word = True\n",
    "        \n",
    "    def find_word(self, w):\n",
    "        current_node = self.root\n",
    "        print(current_node.children)\n",
    "        for c in w:\n",
    "            if c not in current_node.children:\n",
    "                return False\n",
    "            current_node = current_node.children[c]\n",
    "        return current_node.end_of_word\n",
    "    \n",
    "    def prefix_match(self, p):\n",
    "        current_node = self.root\n",
    "        path = []\n",
    "        for c in p:\n",
    "            path.append(c)\n",
    "            if c not in current_node.children:\n",
    "                return []\n",
    "            current_node = current_node.children[c]\n",
    "        output = []\n",
    "        self._collect_words(current_node, path, output)\n",
    "        return output\n",
    "    \n",
    "    def _collect_words(self, node, path, output):\n",
    "        if node.end_of_word:\n",
    "            output.append(''.join(path))\n",
    "        for char, child in node.children.items():\n",
    "            print(\"child : \", char)\n",
    "            path.append(char)\n",
    "            self._collect_words(child, path, output)\n",
    "            path.pop()\n",
    "    \n",
    "\n",
    "def main():\n",
    "    keys = [\"AB\", \"ABC\", \"ABD\"]\n",
    "    \n",
    "    t = Trie()\n",
    "    for key in keys:\n",
    "        t.add(key)\n",
    "    \n",
    "    print(\"finding word : \", t.find_word('ABZ'))\n",
    "    print(\"Prefixes : \", t.prefix_match(\"AB\"))\n",
    "\n",
    "if __name__ == '__main__':\n",
    "    main()\n",
    "        \n",
    "            \n",
    "        "
   ]
  },
  {
   "cell_type": "code",
   "execution_count": null,
   "metadata": {},
   "outputs": [],
   "source": []
  },
  {
   "cell_type": "markdown",
   "metadata": {},
   "source": [
    "# Shortest Substring"
   ]
  },
  {
   "cell_type": "code",
   "execution_count": 1,
   "metadata": {},
   "outputs": [
    {
     "name": "stdout",
     "output_type": "stream",
     "text": [
      "missing :  3\n"
     ]
    }
   ],
   "source": [
    "def shortest_substring(input, set):\n",
    "    missing = len(set)\n",
    "    print(\"missing : \", missing)\n",
    "    i = 0\n",
    "    j = 0\n",
    "    dic = {}\n",
    "    shortest = float('inf')\n",
    "    indexes = []\n",
    "    \n",
    "    for element in set:\n",
    "        dic[element] = set\n",
    "    \n",
    "    while j < len(input) and i < len(input):\n",
    "        if input[j] in set:\n",
    "            dic[input[j]] += 1\n",
    "            if missing > 0:\n",
    "                missing = missing - 1\n",
    "            if missing == 0:\n",
    "                if (j-i) < shortest:\n",
    "                    shortest = (j-i)\n",
    "                    indexes.append((i, j))\n",
    "                \n",
    "            \n",
    "            \n",
    "            \n",
    "            \n",
    "        else:\n",
    "            j += 1\n",
    "            \n",
    "            \n",
    "        \n",
    "        \n",
    "    \n",
    "\n",
    "input = \"HelloWorld\"\n",
    "set = {'l','r','w'}\n",
    "shortest_substring(input, set)"
   ]
  },
  {
   "cell_type": "code",
   "execution_count": null,
   "metadata": {},
   "outputs": [],
   "source": []
  },
  {
   "cell_type": "code",
   "execution_count": 2,
   "metadata": {},
   "outputs": [],
   "source": [
    "set = {'l','r','w'}"
   ]
  },
  {
   "cell_type": "code",
   "execution_count": 3,
   "metadata": {},
   "outputs": [
    {
     "data": {
      "text/plain": [
       "{'l', 'r', 'w'}"
      ]
     },
     "execution_count": 3,
     "metadata": {},
     "output_type": "execute_result"
    }
   ],
   "source": [
    "set"
   ]
  },
  {
   "cell_type": "code",
   "execution_count": 6,
   "metadata": {},
   "outputs": [],
   "source": [
    "dic = {}\n",
    "for i in set:\n",
    "    dic[i] = 0\n",
    "    "
   ]
  },
  {
   "cell_type": "code",
   "execution_count": 7,
   "metadata": {},
   "outputs": [
    {
     "data": {
      "text/plain": [
       "{'w': 0, 'l': 0, 'r': 0}"
      ]
     },
     "execution_count": 7,
     "metadata": {},
     "output_type": "execute_result"
    }
   ],
   "source": [
    "dic"
   ]
  },
  {
   "cell_type": "markdown",
   "metadata": {},
   "source": [
    "# Longest Palindromic Substring"
   ]
  },
  {
   "cell_type": "code",
   "execution_count": 15,
   "metadata": {},
   "outputs": [
    {
     "name": "stdout",
     "output_type": "stream",
     "text": [
      "k :  3\n",
      "j :  1\n",
      "k :  6\n",
      "j :  2\n",
      "['cbbbc']\n"
     ]
    }
   ],
   "source": [
    "def oddPalindromeSubstring(str):\n",
    "    longest = 0\n",
    "    output = [0]\n",
    "    for i in range(len(str)):\n",
    "        j = i-1\n",
    "        k = i+1\n",
    "        while j>=0 and k<len(str):\n",
    "            if str[j] != str[k]:\n",
    "                break\n",
    "            else:\n",
    "                if(k-j) > longest:\n",
    "                    print(\"k : \", k)\n",
    "                    print(\"j : \", j)\n",
    "                    longest = (k-j)\n",
    "                    output[0] = str[j:k+1]\n",
    "                k = k + 1\n",
    "                j = j - 1\n",
    "    return output\n",
    "\n",
    "print(oddPalindromeSubstring(\"abcbbbcaaa\"))"
   ]
  },
  {
   "cell_type": "markdown",
   "metadata": {},
   "source": [
    "### Optimize and improvize on this as the above code considers the string to be odd. But what if the string is even, then consider the hidden element and start comparing its left and right. "
   ]
  },
  {
   "cell_type": "code",
   "execution_count": 20,
   "metadata": {},
   "outputs": [
    {
     "name": "stdout",
     "output_type": "stream",
     "text": [
      "['cbbbc']\n"
     ]
    }
   ],
   "source": [
    "def saveLongest(str, left, right, longest, output):\n",
    "    if longest[0] < right-left:\n",
    "        longest[0] = (right - left)\n",
    "        output[0] = str[left: right+1]\n",
    "    return output\n",
    "\n",
    "def evenPalindromeSubstring(str):\n",
    "    longest = [0]\n",
    "    output = [0]\n",
    "    for i in range(len(str)):\n",
    "        left = i\n",
    "        right = i+1\n",
    "        while left>=0 and right<len(str) and str[left] == str[right]:\n",
    "            right = right + 1\n",
    "            left = left - 1\n",
    "        saveLongest(str, left+1, right-1, longest, output)\n",
    "    return output\n",
    "\n",
    "print(evenPalindromeSubstring(\"abcbbbcaaa\"))"
   ]
  },
  {
   "cell_type": "markdown",
   "metadata": {},
   "source": [
    "# Odd and Even length together - O(n^2) "
   ]
  },
  {
   "cell_type": "code",
   "execution_count": 22,
   "metadata": {},
   "outputs": [
    {
     "name": "stdout",
     "output_type": "stream",
     "text": [
      "['cbbbbc']\n"
     ]
    }
   ],
   "source": [
    "def saveLongest(str, left, right, longest, output):\n",
    "    if longest[0] < right-left:\n",
    "        longest[0] = (right - left)\n",
    "        output[0] = str[left: right+1]\n",
    "    return output\n",
    "\n",
    "def palindromeSubstring(str):\n",
    "    longest = [0]\n",
    "    output = [0]\n",
    "    \n",
    "    for i in range(len(str)):\n",
    "        #Odd\n",
    "        left = i\n",
    "        right = i\n",
    "        while left>=0 and right<len(str) and str[left] == str[right]:\n",
    "            right = right + 1\n",
    "            left = left - 1\n",
    "        saveLongest(str, left+1, right-1, longest, output)           \n",
    "        \n",
    "        #Even \n",
    "        left = i\n",
    "        right = i+1\n",
    "        while left>=0 and right<len(str) and str[left] == str[right]:\n",
    "            right = right + 1\n",
    "            left = left - 1\n",
    "        saveLongest(str, left+1, right-1, longest, output)\n",
    "    return output\n",
    "\n",
    "print(palindromeSubstring(\"abcbbbbcaaa\"))"
   ]
  },
  {
   "cell_type": "code",
   "execution_count": null,
   "metadata": {},
   "outputs": [],
   "source": []
  },
  {
   "cell_type": "code",
   "execution_count": null,
   "metadata": {},
   "outputs": [],
   "source": []
  },
  {
   "cell_type": "code",
   "execution_count": null,
   "metadata": {},
   "outputs": [],
   "source": []
  },
  {
   "cell_type": "markdown",
   "metadata": {},
   "source": [
    "# 5. Prefix/root "
   ]
  },
  {
   "cell_type": "code",
   "execution_count": null,
   "metadata": {},
   "outputs": [],
   "source": []
  },
  {
   "cell_type": "code",
   "execution_count": 12,
   "metadata": {},
   "outputs": [
    {
     "ename": "SyntaxError",
     "evalue": "invalid syntax (<ipython-input-12-802e7833336a>, line 18)",
     "output_type": "error",
     "traceback": [
      "\u001b[0;36m  File \u001b[0;32m\"<ipython-input-12-802e7833336a>\"\u001b[0;36m, line \u001b[0;32m18\u001b[0m\n\u001b[0;31m    if (!hasChild(node, word[i])):\u001b[0m\n\u001b[0m        ^\u001b[0m\n\u001b[0;31mSyntaxError\u001b[0m\u001b[0;31m:\u001b[0m invalid syntax\n"
     ]
    }
   ],
   "source": [
    "class TrieNode(object):\n",
    "    def __init__(self):\n",
    "        self.children = {}\n",
    "        self.end_of_word = False\n",
    "class Trie(object):\n",
    "    self.root = TrieNode()\n",
    "def prefixWords(words):\n",
    "    current_node = TrieNode()\n",
    "    for word in words:\n",
    "        insertTrie(current_node, word)\n",
    "        \n",
    "        \n",
    "def insertTrie(root, word):\n",
    "    node = root\n",
    "    for i in range(len(word)):\n",
    "        if hasChild(node, '$'):\n",
    "            break\n",
    "        if (!hasChild(node, word[i])):\n",
    "            self.node.children[word[i]] = TrieNode()\n",
    "        node = node.children[i]\n",
    "        if(i == len(word)):\n",
    "            deleteAllChildren(node)\n",
    "            node.children['$'] = TrieNode()\n",
    "            \n",
    "def deleteAllChildren(node):\n",
    "    for char,child in node.children.items():\n",
    "        \n",
    "    \n",
    "    \n",
    "    \n",
    "\n",
    " "
   ]
  },
  {
   "cell_type": "code",
   "execution_count": null,
   "metadata": {},
   "outputs": [],
   "source": []
  }
 ],
 "metadata": {
  "kernelspec": {
   "display_name": "Python 3",
   "language": "python",
   "name": "python3"
  },
  "language_info": {
   "codemirror_mode": {
    "name": "ipython",
    "version": 3
   },
   "file_extension": ".py",
   "mimetype": "text/x-python",
   "name": "python",
   "nbconvert_exporter": "python",
   "pygments_lexer": "ipython3",
   "version": "3.7.0"
  }
 },
 "nbformat": 4,
 "nbformat_minor": 2
}
