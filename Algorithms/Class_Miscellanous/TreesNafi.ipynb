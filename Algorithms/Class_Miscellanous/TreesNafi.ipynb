{
 "cells": [
  {
   "cell_type": "code",
   "execution_count": null,
   "metadata": {},
   "outputs": [],
   "source": [
    "class Node:\n",
    "    def __init__(self, data):\n",
    "        self.data = data\n",
    "        self.left = None\n",
    "        self.right = None\n",
    "        "
   ]
  },
  {
   "cell_type": "code",
   "execution_count": null,
   "metadata": {},
   "outputs": [],
   "source": [
    "def printBFSLevelK(root, K):\n",
    "    queue = []\n",
    "    queue.append(root)\n",
    "    queue.append('#')\n",
    "    level = 0\n",
    "    while queue:\n",
    "        node = queue.pop(0)\n",
    "        if node == '#':\n",
    "            level += 1\n",
    "            if level == K:\n",
    "                print(queue)\n",
    "                break\n",
    "            queue.append('#')\n",
    "        else:\n",
    "            if node.left:\n",
    "                queue.append(node.left)\n",
    "            if node.right:\n",
    "                queue.append(node.right)\n",
    "            \n",
    "                \n",
    "            \n",
    "        \n",
    "        \n",
    "        \n",
    "    "
   ]
  },
  {
   "cell_type": "code",
   "execution_count": null,
   "metadata": {},
   "outputs": [],
   "source": [
    "def printDFSLevelK(root, K):\n",
    "    if root is None:\n",
    "        return\n",
    "    if K == 0:\n",
    "        print(root.data)\n",
    "        return\n",
    "    printDFSLevelK(root.left, K-1)\n",
    "    printDFSLevelK(root.right, K-1)\n",
    "    "
   ]
  },
  {
   "cell_type": "markdown",
   "metadata": {},
   "source": [
    "# 2"
   ]
  },
  {
   "cell_type": "code",
   "execution_count": 15,
   "metadata": {},
   "outputs": [
    {
     "name": "stdout",
     "output_type": "stream",
     "text": [
      "root.val :  50\n",
      "Checkpoint 2\n",
      "Lets check\n",
      "root.val :  30\n",
      "Checkpoint 2\n",
      "Lets check\n",
      "root.val :  40\n",
      "Checkpoint 2\n"
     ]
    },
    {
     "ename": "AttributeError",
     "evalue": "'NoneType' object has no attribute 'count'",
     "output_type": "error",
     "traceback": [
      "\u001b[0;31m---------------------------------------------------------------------------\u001b[0m",
      "\u001b[0;31mAttributeError\u001b[0m                            Traceback (most recent call last)",
      "\u001b[0;32m<ipython-input-15-0c86b61bd7a8>\u001b[0m in \u001b[0;36m<module>\u001b[0;34m()\u001b[0m\n\u001b[1;32m     62\u001b[0m \u001b[0minsert\u001b[0m\u001b[0;34m(\u001b[0m\u001b[0mr\u001b[0m\u001b[0;34m,\u001b[0m \u001b[0mNode\u001b[0m\u001b[0;34m(\u001b[0m\u001b[0;36m80\u001b[0m\u001b[0;34m)\u001b[0m\u001b[0;34m)\u001b[0m\u001b[0;34m\u001b[0m\u001b[0m\n\u001b[1;32m     63\u001b[0m \u001b[0;34m\u001b[0m\u001b[0m\n\u001b[0;32m---> 64\u001b[0;31m \u001b[0mprint\u001b[0m\u001b[0;34m(\u001b[0m\u001b[0mprintInOrder\u001b[0m\u001b[0;34m(\u001b[0m\u001b[0mr\u001b[0m\u001b[0;34m,\u001b[0m \u001b[0;36m5\u001b[0m\u001b[0;34m)\u001b[0m\u001b[0;34m)\u001b[0m\u001b[0;34m\u001b[0m\u001b[0m\n\u001b[0m\u001b[1;32m     65\u001b[0m \u001b[0;34m\u001b[0m\u001b[0m\n\u001b[1;32m     66\u001b[0m \u001b[0;31m# 20 30 40 50 60 70 80\u001b[0m\u001b[0;34m\u001b[0m\u001b[0;34m\u001b[0m\u001b[0m\n",
      "\u001b[0;32m<ipython-input-15-0c86b61bd7a8>\u001b[0m in \u001b[0;36mprintInOrder\u001b[0;34m(root, k)\u001b[0m\n\u001b[1;32m     51\u001b[0m \u001b[0;32mdef\u001b[0m \u001b[0mprintInOrder\u001b[0m\u001b[0;34m(\u001b[0m\u001b[0mroot\u001b[0m\u001b[0;34m,\u001b[0m\u001b[0mk\u001b[0m\u001b[0;34m)\u001b[0m\u001b[0;34m:\u001b[0m\u001b[0;34m\u001b[0m\u001b[0m\n\u001b[1;32m     52\u001b[0m     \u001b[0mpopulateTree\u001b[0m\u001b[0;34m(\u001b[0m\u001b[0mroot\u001b[0m\u001b[0;34m)\u001b[0m\u001b[0;34m\u001b[0m\u001b[0m\n\u001b[0;32m---> 53\u001b[0;31m     \u001b[0mfindKLargest\u001b[0m\u001b[0;34m(\u001b[0m\u001b[0mroot\u001b[0m\u001b[0;34m,\u001b[0m \u001b[0mk\u001b[0m\u001b[0;34m)\u001b[0m\u001b[0;34m\u001b[0m\u001b[0m\n\u001b[0m\u001b[1;32m     54\u001b[0m \u001b[0;34m\u001b[0m\u001b[0m\n\u001b[1;32m     55\u001b[0m \u001b[0;34m\u001b[0m\u001b[0m\n",
      "\u001b[0;32m<ipython-input-15-0c86b61bd7a8>\u001b[0m in \u001b[0;36mfindKLargest\u001b[0;34m(root, k)\u001b[0m\n\u001b[1;32m     38\u001b[0m \u001b[0;34m\u001b[0m\u001b[0m\n\u001b[1;32m     39\u001b[0m     \u001b[0;32mif\u001b[0m \u001b[0;34m(\u001b[0m\u001b[0mk\u001b[0m\u001b[0;34m>\u001b[0m\u001b[0mroot\u001b[0m\u001b[0;34m.\u001b[0m\u001b[0mright\u001b[0m\u001b[0;34m.\u001b[0m\u001b[0mcount\u001b[0m\u001b[0;34m+\u001b[0m\u001b[0;36m1\u001b[0m\u001b[0;34m)\u001b[0m\u001b[0;34m:\u001b[0m\u001b[0;34m\u001b[0m\u001b[0m\n\u001b[0;32m---> 40\u001b[0;31m         \u001b[0mfindKLargest\u001b[0m\u001b[0;34m(\u001b[0m\u001b[0mroot\u001b[0m\u001b[0;34m.\u001b[0m\u001b[0mleft\u001b[0m\u001b[0;34m,\u001b[0m \u001b[0mk\u001b[0m\u001b[0;34m-\u001b[0m\u001b[0;34m(\u001b[0m\u001b[0mroot\u001b[0m\u001b[0;34m.\u001b[0m\u001b[0mright\u001b[0m\u001b[0;34m.\u001b[0m\u001b[0mcount\u001b[0m\u001b[0;34m+\u001b[0m\u001b[0;36m1\u001b[0m\u001b[0;34m)\u001b[0m\u001b[0;34m)\u001b[0m\u001b[0;34m\u001b[0m\u001b[0m\n\u001b[0m\u001b[1;32m     41\u001b[0m     \u001b[0;32melse\u001b[0m\u001b[0;34m:\u001b[0m\u001b[0;34m\u001b[0m\u001b[0m\n\u001b[1;32m     42\u001b[0m         \u001b[0mfindKLargest\u001b[0m\u001b[0;34m(\u001b[0m\u001b[0mroot\u001b[0m\u001b[0;34m.\u001b[0m\u001b[0mright\u001b[0m\u001b[0;34m,\u001b[0m \u001b[0mk\u001b[0m\u001b[0;34m)\u001b[0m\u001b[0;34m\u001b[0m\u001b[0m\n",
      "\u001b[0;32m<ipython-input-15-0c86b61bd7a8>\u001b[0m in \u001b[0;36mfindKLargest\u001b[0;34m(root, k)\u001b[0m\n\u001b[1;32m     40\u001b[0m         \u001b[0mfindKLargest\u001b[0m\u001b[0;34m(\u001b[0m\u001b[0mroot\u001b[0m\u001b[0;34m.\u001b[0m\u001b[0mleft\u001b[0m\u001b[0;34m,\u001b[0m \u001b[0mk\u001b[0m\u001b[0;34m-\u001b[0m\u001b[0;34m(\u001b[0m\u001b[0mroot\u001b[0m\u001b[0;34m.\u001b[0m\u001b[0mright\u001b[0m\u001b[0;34m.\u001b[0m\u001b[0mcount\u001b[0m\u001b[0;34m+\u001b[0m\u001b[0;36m1\u001b[0m\u001b[0;34m)\u001b[0m\u001b[0;34m)\u001b[0m\u001b[0;34m\u001b[0m\u001b[0m\n\u001b[1;32m     41\u001b[0m     \u001b[0;32melse\u001b[0m\u001b[0;34m:\u001b[0m\u001b[0;34m\u001b[0m\u001b[0m\n\u001b[0;32m---> 42\u001b[0;31m         \u001b[0mfindKLargest\u001b[0m\u001b[0;34m(\u001b[0m\u001b[0mroot\u001b[0m\u001b[0;34m.\u001b[0m\u001b[0mright\u001b[0m\u001b[0;34m,\u001b[0m \u001b[0mk\u001b[0m\u001b[0;34m)\u001b[0m\u001b[0;34m\u001b[0m\u001b[0m\n\u001b[0m\u001b[1;32m     43\u001b[0m \u001b[0;34m\u001b[0m\u001b[0m\n\u001b[1;32m     44\u001b[0m \u001b[0;34m\u001b[0m\u001b[0m\n",
      "\u001b[0;32m<ipython-input-15-0c86b61bd7a8>\u001b[0m in \u001b[0;36mfindKLargest\u001b[0;34m(root, k)\u001b[0m\n\u001b[1;32m     27\u001b[0m         \u001b[0;32mreturn\u001b[0m \u001b[0;36m0\u001b[0m\u001b[0;34m\u001b[0m\u001b[0m\n\u001b[1;32m     28\u001b[0m     \u001b[0mprint\u001b[0m\u001b[0;34m(\u001b[0m\u001b[0;34m\"Checkpoint 2\"\u001b[0m\u001b[0;34m)\u001b[0m\u001b[0;34m\u001b[0m\u001b[0m\n\u001b[0;32m---> 29\u001b[0;31m     \u001b[0;32mif\u001b[0m \u001b[0;34m(\u001b[0m\u001b[0mk\u001b[0m\u001b[0;34m==\u001b[0m\u001b[0mroot\u001b[0m\u001b[0;34m.\u001b[0m\u001b[0mright\u001b[0m\u001b[0;34m.\u001b[0m\u001b[0mcount\u001b[0m\u001b[0;34m+\u001b[0m\u001b[0;36m1\u001b[0m\u001b[0;34m)\u001b[0m\u001b[0;34m:\u001b[0m\u001b[0;34m\u001b[0m\u001b[0m\n\u001b[0m\u001b[1;32m     30\u001b[0m         \u001b[0mprint\u001b[0m\u001b[0;34m(\u001b[0m\u001b[0;34m\"In here\"\u001b[0m\u001b[0;34m)\u001b[0m\u001b[0;34m\u001b[0m\u001b[0m\n\u001b[1;32m     31\u001b[0m         \u001b[0mprint\u001b[0m\u001b[0;34m(\u001b[0m\u001b[0;34m\"the k largest is :\"\u001b[0m\u001b[0;34m,\u001b[0m \u001b[0mroot\u001b[0m\u001b[0;34m.\u001b[0m\u001b[0mval\u001b[0m\u001b[0;34m)\u001b[0m\u001b[0;34m\u001b[0m\u001b[0m\n",
      "\u001b[0;31mAttributeError\u001b[0m: 'NoneType' object has no attribute 'count'"
     ]
    }
   ],
   "source": [
    "class Node:\n",
    "    def __init__(self, val):\n",
    "        self.val = val\n",
    "        self.count = 0\n",
    "        self.left = None\n",
    "        self.right = None\n",
    "        \n",
    "def insert(root, node):\n",
    "    if root is None:\n",
    "        root = node\n",
    "    else:\n",
    "        if root.val < node.val:\n",
    "            if root.right is None:\n",
    "                root.right = node\n",
    "            else:\n",
    "                insert(root.right, node)\n",
    "        else:\n",
    "            if root.left is None:\n",
    "                root.left = node\n",
    "            else:\n",
    "                insert(root.left, node)\n",
    "            \n",
    "\n",
    "def findKLargest(root, k):\n",
    "    print(\"root.val : \", root.val)\n",
    "    if(root is None):\n",
    "        return 0\n",
    "    print(\"Checkpoint 2\")\n",
    "    if (k==root.right.count+1):\n",
    "        print(\"In here\")\n",
    "        print(\"the k largest is :\", root.val)\n",
    "        print(root.val)\n",
    "        return root\n",
    "    if(root.right is None or root.left is None):\n",
    "        print(\"It entered\")\n",
    "        return 0\n",
    "    print(\"Lets check\")\n",
    "\n",
    "    if (k>root.right.count+1):\n",
    "        findKLargest(root.left, k-(root.right.count+1))\n",
    "    else:\n",
    "        findKLargest(root.right, k)\n",
    "    \n",
    "\n",
    "def populateTree(root):\n",
    "    if root is None :\n",
    "        return 0\n",
    "    root.count =  populateTree(root.left) + populateTree(root.right) + 1\n",
    "    return root.count\n",
    "    \n",
    "def printInOrder(root,k):\n",
    "    populateTree(root)\n",
    "    findKLargest(root, k)\n",
    "    \n",
    "    \n",
    "r = Node(50)\n",
    "insert(r, Node(30))\n",
    "insert(r, Node(20))\n",
    "insert(r, Node(40))\n",
    "insert(r, Node(70))\n",
    "insert(r, Node(60))\n",
    "insert(r, Node(80))\n",
    "\n",
    "print(printInOrder(r, 5))\n",
    "\n",
    "# 20 30 40 50 60 70 80\n",
    "\n",
    "    "
   ]
  },
  {
   "cell_type": "markdown",
   "metadata": {},
   "source": [
    "# Mirror Image of a Binary Tree"
   ]
  },
  {
   "cell_type": "code",
   "execution_count": 17,
   "metadata": {},
   "outputs": [
    {
     "name": "stdout",
     "output_type": "stream",
     "text": [
      "node.val :  50\n",
      "80\n",
      "70\n",
      "60\n",
      "50\n",
      "40\n",
      "30\n",
      "20\n"
     ]
    }
   ],
   "source": [
    "class Node:\n",
    "    def __init__(self, val):\n",
    "        self.val = val\n",
    "        self.left = None\n",
    "        self.right = None\n",
    "        \n",
    "def insert(root, node):\n",
    "    if root is None:\n",
    "        root = node\n",
    "    else:\n",
    "        if root.val < node.val:\n",
    "            if root.right is None:\n",
    "                root.right = node\n",
    "            else:\n",
    "                insert(root.right, node)\n",
    "        else:\n",
    "            if root.left is None:\n",
    "                root.left = node\n",
    "            else:\n",
    "                insert(root.left, node)\n",
    "\n",
    "\n",
    "\n",
    "def inorderTraversal(root, inorder):\n",
    "    if root:\n",
    "        inorderTraversal(root.left, inorder)\n",
    "        inorder.append(root.val)\n",
    "        inorderTraversal(root.right, inorder)\n",
    "        \n",
    "def inorder(root):\n",
    "    if root:\n",
    "        inorder(root.left)\n",
    "        print(root.val)\n",
    "        inorder(root.right)\n",
    "    \n",
    "def constructBinaryTree(output):\n",
    "    mid = len(output)//2\n",
    "    if mid==0:\n",
    "        return Node(output[mid])\n",
    "    root = Node(output[mid])\n",
    "    root.left = constructBinaryTree(output[:mid])\n",
    "    root.right = constructBinaryTree(output[mid+1:])\n",
    "    return root\n",
    "    \n",
    "def mirror_image(root):\n",
    "# Write your code here\n",
    "    inorder = []\n",
    "    inorderTraversal(root, inorder)\n",
    "    output = inorder[::-1]\n",
    "    node = constructBinaryTree(output)\n",
    "    print(\"node.val : \", node.val)\n",
    "    return node\n",
    "\n",
    "\n",
    "r = Node(50)\n",
    "insert(r, Node(30))\n",
    "insert(r, Node(20))\n",
    "insert(r, Node(40))\n",
    "insert(r, Node(70))\n",
    "insert(r, Node(60))\n",
    "insert(r, Node(80))\n",
    "\n",
    "\n",
    "inorder(mirror_image(r))"
   ]
  },
  {
   "cell_type": "code",
   "execution_count": null,
   "metadata": {},
   "outputs": [],
   "source": []
  },
  {
   "cell_type": "code",
   "execution_count": 28,
   "metadata": {},
   "outputs": [],
   "source": [
    "def helper(dblbase, ipower, answer):\n",
    "    if ipower == 1:\n",
    "        return answer * dblbase\n",
    "    else:\n",
    "        return helper(dblbase, ipower - 1, answer * dblbase)\n",
    "\n",
    "def pow(dblbase, ipower):\n",
    "    if ipower == 0:\n",
    "        return 1.0\n",
    "    res = helper(dblbase, abs(ipower), 1)\n",
    "    if ipower > 0:\n",
    "        return res\n",
    "    else:\n",
    "        return round((1.0/float(res)), 9)\n"
   ]
  },
  {
   "cell_type": "code",
   "execution_count": 29,
   "metadata": {},
   "outputs": [
    {
     "name": "stdout",
     "output_type": "stream",
     "text": [
      "8\n"
     ]
    }
   ],
   "source": [
    "print(pow(2,3))"
   ]
  },
  {
   "cell_type": "code",
   "execution_count": 46,
   "metadata": {},
   "outputs": [],
   "source": [
    "def find_all_possibilities(s):\n",
    "    #\n",
    "    # Write your code here.\n",
    "    #\n",
    "    elem = []\n",
    "    for i in range(len(s)):\n",
    "        if s[i] == '?':\n",
    "            if (s[:i] + '0' + s[i+1:]) not in elem:\n",
    "                elem.append(s[:i] + '0' + s[i+1:])\n",
    "            print(\"s : \",s)\n",
    "            if (s[:i] + '1' + s[i+1:]) not in elem:\n",
    "                elem.append(s[:i] + '1' + s[i+1:])\n",
    "    print(elem)\n",
    "    for el in elem:\n",
    "        print(el),"
   ]
  },
  {
   "cell_type": "code",
   "execution_count": 60,
   "metadata": {},
   "outputs": [
    {
     "name": "stdout",
     "output_type": "stream",
     "text": [
      "i :  4\n",
      "i :  3\n",
      "i :  2\n",
      "i :  1\n",
      "i :  0\n",
      "['1?0?']\n"
     ]
    }
   ],
   "source": [
    "find_all_possibilities('1?0?')"
   ]
  },
  {
   "cell_type": "code",
   "execution_count": 61,
   "metadata": {},
   "outputs": [],
   "source": [
    "def helper(s, i, output):\n",
    "    print(\"i : \", i)\n",
    "    if i == 0:\n",
    "        output.append(s)\n",
    "        return output\n",
    "    if i == '$':\n",
    "        return helper(s[:i] + '0' + s[i+1:], i-1, output)\n",
    "        return helper(s[:i] + '1' + s[i+1:], i-1, output)\n",
    "    else:\n",
    "        return helper(s, i-1, output)\n",
    "        \n",
    "\n",
    "def find_all_possibilities(s):\n",
    "    #\n",
    "    # Write your code here.\n",
    "    #\n",
    "    output = []\n",
    "    helper(s, len(s), output)\n",
    "    print(output)"
   ]
  },
  {
   "cell_type": "code",
   "execution_count": 62,
   "metadata": {},
   "outputs": [
    {
     "name": "stdout",
     "output_type": "stream",
     "text": [
      "i :  4\n",
      "i :  3\n",
      "i :  2\n",
      "i :  1\n",
      "i :  0\n",
      "['1?0?']\n"
     ]
    }
   ],
   "source": [
    "find_all_possibilities('1?0?')"
   ]
  },
  {
   "cell_type": "code",
   "execution_count": null,
   "metadata": {},
   "outputs": [],
   "source": []
  },
  {
   "cell_type": "code",
   "execution_count": null,
   "metadata": {},
   "outputs": [],
   "source": []
  },
  {
   "cell_type": "code",
   "execution_count": 65,
   "metadata": {},
   "outputs": [],
   "source": [
    "#nailed\n",
    "\n",
    "def neuronyms(word):\n",
    "    N = len(word) - 2\n",
    "    output = []\n",
    "    output.append(word[0] + str(N) + word[-1])\n",
    "    print(output)\n",
    "    while N >= 2:\n",
    "        N = N - 1\n",
    "        for i in range(1, len(word)):\n",
    "            count = 1\n",
    "            \n",
    "        \n",
    "        \n",
    "            \n",
    "            \n",
    "            \n",
    "    \n",
    "    \n",
    "    "
   ]
  },
  {
   "cell_type": "code",
   "execution_count": 66,
   "metadata": {},
   "outputs": [
    {
     "name": "stdout",
     "output_type": "stream",
     "text": [
      "['n4d']\n"
     ]
    }
   ],
   "source": [
    "neuronyms(\"nailed\")"
   ]
  },
  {
   "cell_type": "code",
   "execution_count": 67,
   "metadata": {},
   "outputs": [],
   "source": [
    "def permutations(soFar, rest):\n",
    "    if(rest == ''):\n",
    "        print(soFar)\n",
    "    else:\n",
    "        for i in range(len(rest)):\n",
    "            next = soFar + rest[i]\n",
    "            rem = rest[:i] + rest[i+1:]\n",
    "            permutations(next, rem)"
   ]
  },
  {
   "cell_type": "code",
   "execution_count": 68,
   "metadata": {},
   "outputs": [
    {
     "name": "stdout",
     "output_type": "stream",
     "text": [
      "abc\n",
      "acb\n",
      "bac\n",
      "bca\n",
      "cab\n",
      "cba\n"
     ]
    }
   ],
   "source": [
    "permutations('', 'abc')"
   ]
  },
  {
   "cell_type": "code",
   "execution_count": 69,
   "metadata": {},
   "outputs": [],
   "source": [
    "def permutations(soFar, rest):\n",
    "    if (rest == ''):\n",
    "        print(soFar)\n",
    "    else:\n",
    "        for i in range(len(rest)):\n",
    "            next = soFar + rest[i]\n",
    "            rem = rest[:i] + rest[i+1:]\n",
    "            permutations(next, rem)\n"
   ]
  },
  {
   "cell_type": "code",
   "execution_count": 72,
   "metadata": {},
   "outputs": [],
   "source": [
    "def neuronyms(word):\n",
    "    print(word[0] + str(len(word)-2) + word[-1])\n",
    "    i = len(word) - 3\n",
    "    while i >= 2:\n",
    "        k = 0\n",
    "        while k <= (len(word)-2-i):\n",
    "            print(word[:k+1] + str(i) + word[k+i+1:])\n",
    "            k = k+1\n",
    "        i=i-1\n",
    "\n",
    "    \n",
    "    "
   ]
  },
  {
   "cell_type": "code",
   "execution_count": 73,
   "metadata": {},
   "outputs": [
    {
     "name": "stdout",
     "output_type": "stream",
     "text": [
      "n4d\n",
      "n3ed\n",
      "na3d\n",
      "n2led\n",
      "na2ed\n",
      "nai2d\n"
     ]
    }
   ],
   "source": [
    "neuronyms(\"nailed\")"
   ]
  },
  {
   "cell_type": "markdown",
   "metadata": {},
   "source": [
    "# ReverseIndex"
   ]
  },
  {
   "cell_type": "code",
   "execution_count": 74,
   "metadata": {},
   "outputs": [
    {
     "ename": "SyntaxError",
     "evalue": "unexpected EOF while parsing (<ipython-input-74-806b51aaa5d7>, line 2)",
     "output_type": "error",
     "traceback": [
      "\u001b[0;36m  File \u001b[0;32m\"<ipython-input-74-806b51aaa5d7>\"\u001b[0;36m, line \u001b[0;32m2\u001b[0m\n\u001b[0;31m    \u001b[0m\n\u001b[0m    ^\u001b[0m\n\u001b[0;31mSyntaxError\u001b[0m\u001b[0;31m:\u001b[0m unexpected EOF while parsing\n"
     ]
    }
   ],
   "source": [
    "def find_positions_of_words_in_text(text, words):\n",
    "    "
   ]
  },
  {
   "cell_type": "code",
   "execution_count": null,
   "metadata": {},
   "outputs": [],
   "source": [
    "text = \"My name is Raashid Kheruwala, here is my list of words that you can compile\"\n",
    "words = [\"Raashid\",\"list\"]\n",
    "find_postions_of_words_in_text()"
   ]
  }
 ],
 "metadata": {
  "kernelspec": {
   "display_name": "Python 3",
   "language": "python",
   "name": "python3"
  },
  "language_info": {
   "codemirror_mode": {
    "name": "ipython",
    "version": 3
   },
   "file_extension": ".py",
   "mimetype": "text/x-python",
   "name": "python",
   "nbconvert_exporter": "python",
   "pygments_lexer": "ipython3",
   "version": "3.7.0"
  }
 },
 "nbformat": 4,
 "nbformat_minor": 2
}
